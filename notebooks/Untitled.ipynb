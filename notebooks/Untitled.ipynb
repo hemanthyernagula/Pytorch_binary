{
 "cells": [
  {
   "cell_type": "code",
   "execution_count": 15,
   "id": "423d80ff",
   "metadata": {},
   "outputs": [],
   "source": [
    "def own_magic(obj):\n",
    "    return obj.__own__()"
   ]
  },
  {
   "cell_type": "code",
   "execution_count": 34,
   "id": "0f23a61e",
   "metadata": {},
   "outputs": [],
   "source": [
    "class test:\n",
    "    def __init__(self,x):\n",
    "        self.x = x\n",
    "    \n",
    "    def __lt__(self,other):\n",
    "        return not self.x < other.x\n",
    "    \n",
    "    def __repr__(self):\n",
    "        return str(self.x)\n",
    "    \n",
    "    def __str__(self):\n",
    "        return str(self.x)\n",
    "    \n",
    "    def __own__(self):\n",
    "        return \"My Own magic function\""
   ]
  },
  {
   "cell_type": "code",
   "execution_count": 35,
   "id": "ee3427a0",
   "metadata": {},
   "outputs": [],
   "source": [
    "y = test(2)\n",
    "x = test(3)"
   ]
  },
  {
   "cell_type": "code",
   "execution_count": 36,
   "id": "66154b56",
   "metadata": {},
   "outputs": [
    {
     "data": {
      "text/plain": [
       "'2'"
      ]
     },
     "execution_count": 36,
     "metadata": {},
     "output_type": "execute_result"
    }
   ],
   "source": [
    "str(y)"
   ]
  },
  {
   "cell_type": "code",
   "execution_count": 46,
   "id": "2443331a",
   "metadata": {},
   "outputs": [],
   "source": [
    "import unittest\n",
    "\n",
    "class Test(unittest.TestCase):\n",
    "    \n",
    "    def test_add(self):\n",
    "        pass\n",
    "#         one = test(5)\n",
    "#         two = test(3)\n",
    "#         print(one)\n",
    "# #         self.assertEqual(one,'5')"
   ]
  },
  {
   "cell_type": "code",
   "execution_count": 47,
   "id": "a9af98a7",
   "metadata": {
    "scrolled": true
   },
   "outputs": [
    {
     "name": "stderr",
     "output_type": "stream",
     "text": [
      "E\n",
      "======================================================================\n",
      "ERROR: /home/hemanth/ (unittest.loader._FailedTest)\n",
      "----------------------------------------------------------------------\n",
      "AttributeError: module '__main__' has no attribute '/home/hemanth/'\n",
      "\n",
      "----------------------------------------------------------------------\n",
      "Ran 1 test in 0.001s\n",
      "\n",
      "FAILED (errors=1)\n"
     ]
    },
    {
     "ename": "SystemExit",
     "evalue": "True",
     "output_type": "error",
     "traceback": [
      "An exception has occurred, use %tb to see the full traceback.\n",
      "\u001b[0;31mSystemExit\u001b[0m\u001b[0;31m:\u001b[0m True\n"
     ]
    },
    {
     "name": "stderr",
     "output_type": "stream",
     "text": [
      "/home/hemanth/anaconda3/envs/pytorch/lib/python3.9/site-packages/IPython/core/interactiveshell.py:3465: UserWarning: To exit: use 'exit', 'quit', or Ctrl-D.\n",
      "  warn(\"To exit: use 'exit', 'quit', or Ctrl-D.\", stacklevel=1)\n"
     ]
    }
   ],
   "source": [
    "unittest.main()"
   ]
  },
  {
   "cell_type": "code",
   "execution_count": 78,
   "id": "ef5a304c",
   "metadata": {},
   "outputs": [],
   "source": [
    "import os\n",
    "os.environ['myenv'] = 'local'"
   ]
  },
  {
   "cell_type": "code",
   "execution_count": 240,
   "id": "6ae88b71",
   "metadata": {},
   "outputs": [],
   "source": [
    "class Environment:\n",
    "    \n",
    "    def __repr__(self):\n",
    "        return os.environ.get('myenv')\n",
    "    def __eq__(self,other):\n",
    "        return other == self.__repr__()\n",
    "    \n",
    "class Development:\n",
    "    def __repr__(self):\n",
    "        return f'local'\n",
    "    def __eq__(self,other):\n",
    "        return other == self.__repr__()\n",
    "    "
   ]
  },
  {
   "cell_type": "code",
   "execution_count": 258,
   "id": "454df8b1",
   "metadata": {},
   "outputs": [],
   "source": [
    "class Environment:\n",
    "    \n",
    "    def __repr__(self):\n",
    "        return os.environ.get('myenv')\n",
    "    def __eq__(self,other):\n",
    "        return other == self.__repr__()\n",
    "    \n",
    "class Development(Environment):\n",
    "    def __repr__(self):\n",
    "        return f'local'\n",
    "\n",
    "class Production(Environment):\n",
    "    redis = 'redis'\n",
    "    def __repr__(self):\n",
    "        return f'production'"
   ]
  },
  {
   "cell_type": "code",
   "execution_count": 259,
   "id": "e8177716",
   "metadata": {},
   "outputs": [
    {
     "data": {
      "text/plain": [
       "local"
      ]
     },
     "execution_count": 259,
     "metadata": {},
     "output_type": "execute_result"
    }
   ],
   "source": [
    "ENVIRONMENT  = Environment()\n",
    "DEVELOPMENT  = Development()\n",
    "PRODUCTION   = Production()\n",
    "ENVIRONMENT"
   ]
  },
  {
   "cell_type": "code",
   "execution_count": 260,
   "id": "aa4eccd7",
   "metadata": {},
   "outputs": [
    {
     "data": {
      "text/plain": [
       "True"
      ]
     },
     "execution_count": 260,
     "metadata": {},
     "output_type": "execute_result"
    }
   ],
   "source": [
    "ENVIRONMENT == DEVELOPMENT"
   ]
  },
  {
   "cell_type": "code",
   "execution_count": 261,
   "id": "10647a40",
   "metadata": {},
   "outputs": [
    {
     "data": {
      "text/plain": [
       "False"
      ]
     },
     "execution_count": 261,
     "metadata": {},
     "output_type": "execute_result"
    }
   ],
   "source": [
    "ENVIRONMENT == PRODUCTION"
   ]
  },
  {
   "cell_type": "code",
   "execution_count": 267,
   "id": "dabe8bbd",
   "metadata": {},
   "outputs": [
    {
     "data": {
      "text/plain": [
       "'redis'"
      ]
     },
     "execution_count": 267,
     "metadata": {},
     "output_type": "execute_result"
    }
   ],
   "source": [
    "PRODUCTION.redis"
   ]
  },
  {
   "cell_type": "code",
   "execution_count": 268,
   "id": "a4a25000",
   "metadata": {},
   "outputs": [],
   "source": [
    "x = [1,2]"
   ]
  },
  {
   "cell_type": "code",
   "execution_count": 270,
   "id": "d2bdd3c3",
   "metadata": {},
   "outputs": [],
   "source": [
    "x.insert(0,3)"
   ]
  },
  {
   "cell_type": "code",
   "execution_count": 282,
   "id": "ca7a7300",
   "metadata": {},
   "outputs": [],
   "source": [
    "import sys\n",
    "import os\n",
    "\n",
    "sys.path.insert(0,os.getcwd())\n"
   ]
  },
  {
   "cell_type": "code",
   "execution_count": 291,
   "id": "21f9be32",
   "metadata": {},
   "outputs": [],
   "source": [
    "os.chdir('../')\n",
    "os.getcwd()\n",
    "\n",
    "sys.path.append('../')"
   ]
  },
  {
   "cell_type": "code",
   "execution_count": 292,
   "id": "6d32bf3c",
   "metadata": {},
   "outputs": [
    {
     "data": {
      "text/plain": [
       "['/home/hemanth/Documents/Projects/Sequence/notebooks',\n",
       " '/home/hemanth/Documents/Projects/Sequence/notebooks',\n",
       " '/home/hemanth/anaconda3/envs/pytorch/lib/python39.zip',\n",
       " '/home/hemanth/anaconda3/envs/pytorch/lib/python3.9',\n",
       " '/home/hemanth/anaconda3/envs/pytorch/lib/python3.9/lib-dynload',\n",
       " '',\n",
       " '/home/hemanth/anaconda3/envs/pytorch/lib/python3.9/site-packages',\n",
       " '/home/hemanth/anaconda3/envs/pytorch/lib/python3.9/site-packages/IPython/extensions',\n",
       " '/home/hemanth/.ipython',\n",
       " '../']"
      ]
     },
     "execution_count": 292,
     "metadata": {},
     "output_type": "execute_result"
    }
   ],
   "source": [
    "sys.path"
   ]
  },
  {
   "cell_type": "code",
   "execution_count": null,
   "id": "6a19eb32",
   "metadata": {},
   "outputs": [],
   "source": []
  }
 ],
 "metadata": {
  "kernelspec": {
   "display_name": "Python 3 (ipykernel)",
   "language": "python",
   "name": "python3"
  },
  "language_info": {
   "codemirror_mode": {
    "name": "ipython",
    "version": 3
   },
   "file_extension": ".py",
   "mimetype": "text/x-python",
   "name": "python",
   "nbconvert_exporter": "python",
   "pygments_lexer": "ipython3",
   "version": "3.9.7"
  }
 },
 "nbformat": 4,
 "nbformat_minor": 5
}
